{
  "nbformat": 4,
  "nbformat_minor": 0,
  "metadata": {
    "colab": {
      "name": "MNIST_dataset.ipynb",
      "provenance": [],
      "collapsed_sections": []
    },
    "kernelspec": {
      "name": "python3",
      "display_name": "Python 3"
    }
  },
  "cells": [
    {
      "cell_type": "markdown",
      "metadata": {
        "id": "_fYELivaH-wc",
        "colab_type": "text"
      },
      "source": [
        "# MNIST dataset \n",
        "\n",
        "This notebook provides a detailed insight of the NN architecture used."
      ]
    },
    {
      "cell_type": "markdown",
      "metadata": {
        "id": "9z0eKLSOIZfk",
        "colab_type": "text"
      },
      "source": [
        "### Importing the necessary libraries\n",
        "\n",
        "---\n",
        "\n",
        "*   TensorFlow (v2.2)\n",
        "*   Tensorflowjs\n",
        "*   Matplotlib"
      ]
    },
    {
      "cell_type": "code",
      "metadata": {
        "id": "gJ5cYPs4ZkAe",
        "colab_type": "code",
        "colab": {
          "base_uri": "https://localhost:8080/",
          "height": 35
        },
        "outputId": "8d43d6c0-2200-47f6-ad6a-64ba2755a783"
      },
      "source": [
        "import tensorflow as tf\n",
        "print(tf.__version__)\n",
        "import tensorflowjs as tfjs\n",
        "import matplotlib.pyplot as plt"
      ],
      "execution_count": 47,
      "outputs": [
        {
          "output_type": "stream",
          "text": [
            "2.2.0\n"
          ],
          "name": "stdout"
        }
      ]
    },
    {
      "cell_type": "markdown",
      "metadata": {
        "id": "AA7mUmqfIlBZ",
        "colab_type": "text"
      },
      "source": [
        "### Importing the dataset\n",
        "\n",
        "---\n",
        "The MNIST dataset, often termed as the \"Hello World\" for Neural Networks, is available in the Keras API and can be imported easily."
      ]
    },
    {
      "cell_type": "code",
      "metadata": {
        "id": "mSHUKha-ZvA8",
        "colab_type": "code",
        "colab": {}
      },
      "source": [
        "(x_train, y_train), (x_test, y_test) = tf.keras.datasets.mnist.load_data()"
      ],
      "execution_count": 48,
      "outputs": []
    },
    {
      "cell_type": "markdown",
      "metadata": {
        "id": "DB0rv3hUK7f0",
        "colab_type": "text"
      },
      "source": [
        "### Data Preprocessing\n",
        "\n",
        "---\n",
        "Printing the 1st image from training set"
      ]
    },
    {
      "cell_type": "code",
      "metadata": {
        "id": "DjAiIaAAaskG",
        "colab_type": "code",
        "colab": {
          "base_uri": "https://localhost:8080/",
          "height": 283
        },
        "outputId": "d9a7bc19-cf4e-4ee7-8c40-ba34ba8c6270"
      },
      "source": [
        "plt.imshow(x_train[0], cmap='Greys')\n",
        "print('shape of image : ' + str(x_train[0].shape))"
      ],
      "execution_count": 49,
      "outputs": [
        {
          "output_type": "stream",
          "text": [
            "shape of image : (28, 28)\n"
          ],
          "name": "stdout"
        },
        {
          "output_type": "display_data",
          "data": {
            "image/png": "[encoded data removed]",
            "text/plain": [
              "<Figure size 432x288 with 1 Axes>"
            ]
          },
          "metadata": {
            "tags": [],
            "needs_background": "light"
          }
        }
      ]
    },
    {
      "cell_type": "markdown",
      "metadata": {
        "id": "dnkE9pmfI0G2",
        "colab_type": "text"
      },
      "source": [
        "Checking if the output(y) is `categorical` or not.\n"
      ]
    },
    {
      "cell_type": "code",
      "metadata": {
        "id": "7uuUGXLYI64U",
        "colab_type": "code",
        "colab": {
          "base_uri": "https://localhost:8080/",
          "height": 35
        },
        "outputId": "41045a6b-9edb-4422-9063-8a6c05660513"
      },
      "source": [
        "print('y of 1st training example : '+str(y_train[0]))"
      ],
      "execution_count": 50,
      "outputs": [
        {
          "output_type": "stream",
          "text": [
            "y of 1st training example : 5\n"
          ],
          "name": "stdout"
        }
      ]
    },
    {
      "cell_type": "markdown",
      "metadata": {
        "id": "aZ8KuxKYJN5p",
        "colab_type": "text"
      },
      "source": [
        "---\n",
        "Since it is not `categorical`, converting them to using **keras**"
      ]
    },
    {
      "cell_type": "code",
      "metadata": {
        "id": "fGu4IaF_fcEA",
        "colab_type": "code",
        "colab": {}
      },
      "source": [
        "y_train = tf.keras.utils.to_categorical(y_train)\n",
        "y_test = tf.keras.utils.to_categorical(y_test)"
      ],
      "execution_count": 51,
      "outputs": []
    },
    {
      "cell_type": "code",
      "metadata": {
        "id": "m-lJ1gt4KROz",
        "colab_type": "code",
        "colab": {
          "base_uri": "https://localhost:8080/",
          "height": 35
        },
        "outputId": "c8dbbfc6-f2f5-4266-8580-3f372b03f711"
      },
      "source": [
        "print('y of 1st training example : '+str(y_train[0]))"
      ],
      "execution_count": 52,
      "outputs": [
        {
          "output_type": "stream",
          "text": [
            "y of 1st training example : [0. 0. 0. 0. 0. 1. 0. 0. 0. 0.]\n"
          ],
          "name": "stdout"
        }
      ]
    },
    {
      "cell_type": "markdown",
      "metadata": {
        "id": "OfJZftnUKw6-",
        "colab_type": "text"
      },
      "source": [
        "Reshaping the array to 4-dims so that it can work with the Keras API"
      ]
    },
    {
      "cell_type": "code",
      "metadata": {
        "id": "6o_3jncTf7qP",
        "colab_type": "code",
        "colab": {}
      },
      "source": [
        "x_train = x_train.reshape(-1, 28, 28, 1)\n",
        "x_test = x_test.reshape(-1, 28, 28, 1)"
      ],
      "execution_count": 53,
      "outputs": []
    },
    {
      "cell_type": "markdown",
      "metadata": {
        "id": "LuuucavmMUsN",
        "colab_type": "text"
      },
      "source": [
        "The pixel values range from 0-255.\n",
        "\n",
        "Normalising the data can increase the performance of the model."
      ]
    },
    {
      "cell_type": "code",
      "metadata": {
        "id": "_QWsZbhLMR8D",
        "colab_type": "code",
        "colab": {}
      },
      "source": [
        "x_train, x_test = x_train/255.0, x_test/255.0"
      ],
      "execution_count": 54,
      "outputs": []
    },
    {
      "cell_type": "markdown",
      "metadata": {
        "id": "ZaCaxYfiMfwI",
        "colab_type": "text"
      },
      "source": [
        "Details of data"
      ]
    },
    {
      "cell_type": "code",
      "metadata": {
        "id": "nZqTVI6lMiJp",
        "colab_type": "code",
        "colab": {
          "base_uri": "https://localhost:8080/",
          "height": 121
        },
        "outputId": "b485652f-fd35-4ac0-c7c0-8e1d4c80e495"
      },
      "source": [
        "print('x_train shape:', x_train.shape)\n",
        "print('Number of images in x_train', x_train.shape[0])\n",
        "print('Number of images in x_test', x_test.shape[0])\n",
        "print('y_train shape:', y_train.shape)\n",
        "print('Number of images in y_train', y_train.shape[0])\n",
        "print('Number of images in y_test', y_test.shape[0])"
      ],
      "execution_count": 55,
      "outputs": [
        {
          "output_type": "stream",
          "text": [
            "x_train shape: (60000, 28, 28, 1)\n",
            "Number of images in x_train 60000\n",
            "Number of images in x_test 10000\n",
            "y_train shape: (60000, 10)\n",
            "Number of images in y_train 60000\n",
            "Number of images in y_test 10000\n"
          ],
          "name": "stdout"
        }
      ]
    },
    {
      "cell_type": "markdown",
      "metadata": {
        "id": "KmlVdpKqM5Yb",
        "colab_type": "text"
      },
      "source": [
        "### Building the model\n",
        "---\n",
        "\n",
        "The model is architectured as:\n",
        "FLATTEN -> DENSE(128) -> DENSE(60) ->DENSE(30) -> OUTPUT(10)\n",
        "\n",
        "Fortunately, we have Keras API which can construct the computational graph in just 4-5 lines of code. More about `Sequential`, `Dense` can be found [here](https://keras.io/api/)."
      ]
    },
    {
      "cell_type": "code",
      "metadata": {
        "id": "cW3vvUyChRum",
        "colab_type": "code",
        "colab": {}
      },
      "source": [
        "model = tf.keras.Sequential([\n",
        "                             tf.keras.layers.Flatten(input_shape=(28,28,1)),\n",
        "                             tf.keras.layers.Dense(units=60, activation='relu'),\n",
        "                             tf.keras.layers.Dense(units=30, activation='relu'),\n",
        "                             tf.keras.layers.Dense(units=10, activation='softmax')\n",
        "                            ])"
      ],
      "execution_count": 56,
      "outputs": []
    },
    {
      "cell_type": "markdown",
      "metadata": {
        "id": "A4kqa7xoNVZi",
        "colab_type": "text"
      },
      "source": [
        "Summary of model"
      ]
    },
    {
      "cell_type": "code",
      "metadata": {
        "id": "CU9HspZagfm0",
        "colab_type": "code",
        "colab": {
          "base_uri": "https://localhost:8080/",
          "height": 295
        },
        "outputId": "aee689e3-59d4-4295-e44c-cb2ffd0b8e3e"
      },
      "source": [
        "model.summary()"
      ],
      "execution_count": 57,
      "outputs": [
        {
          "output_type": "stream",
          "text": [
            "Model: \"sequential_1\"\n",
            "_________________________________________________________________\n",
            "Layer (type)                 Output Shape              Param #   \n",
            "=================================================================\n",
            "flatten_1 (Flatten)          (None, 784)               0         \n",
            "_________________________________________________________________\n",
            "dense_3 (Dense)              (None, 60)                47100     \n",
            "_________________________________________________________________\n",
            "dense_4 (Dense)              (None, 30)                1830      \n",
            "_________________________________________________________________\n",
            "dense_5 (Dense)              (None, 10)                310       \n",
            "=================================================================\n",
            "Total params: 49,240\n",
            "Trainable params: 49,240\n",
            "Non-trainable params: 0\n",
            "_________________________________________________________________\n"
          ],
          "name": "stdout"
        }
      ]
    },
    {
      "cell_type": "markdown",
      "metadata": {
        "id": "obfAI1uWNdtl",
        "colab_type": "text"
      },
      "source": [
        "Compiling the model with `Adam` optimizer and `Categorical cross entropy` as the loss function. \n",
        "\n",
        "The loss function describes how bad the model is and optimizer is responsible for improving the model."
      ]
    },
    {
      "cell_type": "code",
      "metadata": {
        "id": "1wM1vxr2msXS",
        "colab_type": "code",
        "colab": {}
      },
      "source": [
        "model.compile(loss='categorical_crossentropy', optimizer='adam', metrics=['accuracy'])"
      ],
      "execution_count": 58,
      "outputs": []
    },
    {
      "cell_type": "markdown",
      "metadata": {
        "id": "JFpchL_iNnVJ",
        "colab_type": "text"
      },
      "source": [
        "Training the model on `x_train`, `y_train` for 10 epochs"
      ]
    },
    {
      "cell_type": "code",
      "metadata": {
        "id": "BIlQg9HDnzi7",
        "colab_type": "code",
        "colab": {
          "base_uri": "https://localhost:8080/",
          "height": 381
        },
        "outputId": "d72b4c02-fa9f-4454-b1d7-017dea486a81"
      },
      "source": [
        "model.fit(x_train, y_train, epochs=10, validation_data=(x_test, y_test))"
      ],
      "execution_count": 59,
      "outputs": [
        {
          "output_type": "stream",
          "text": [
            "Epoch 1/10\n",
            "1875/1875 [==============================] - 5s 2ms/step - loss: 0.3042 - accuracy: 0.9105 - val_loss: 0.1591 - val_accuracy: 0.9529\n",
            "Epoch 2/10\n",
            "1875/1875 [==============================] - 5s 3ms/step - loss: 0.1425 - accuracy: 0.9583 - val_loss: 0.1193 - val_accuracy: 0.9644\n",
            "Epoch 3/10\n",
            "1875/1875 [==============================] - 5s 2ms/step - loss: 0.1058 - accuracy: 0.9686 - val_loss: 0.1158 - val_accuracy: 0.9655\n",
            "Epoch 4/10\n",
            "1875/1875 [==============================] - 4s 2ms/step - loss: 0.0842 - accuracy: 0.9742 - val_loss: 0.1028 - val_accuracy: 0.9692\n",
            "Epoch 5/10\n",
            "1875/1875 [==============================] - 4s 2ms/step - loss: 0.0695 - accuracy: 0.9786 - val_loss: 0.1022 - val_accuracy: 0.9694\n",
            "Epoch 6/10\n",
            "1875/1875 [==============================] - 4s 2ms/step - loss: 0.0587 - accuracy: 0.9818 - val_loss: 0.0990 - val_accuracy: 0.9697\n",
            "Epoch 7/10\n",
            "1875/1875 [==============================] - 4s 2ms/step - loss: 0.0518 - accuracy: 0.9837 - val_loss: 0.1025 - val_accuracy: 0.9703\n",
            "Epoch 8/10\n",
            "1875/1875 [==============================] - 4s 2ms/step - loss: 0.0428 - accuracy: 0.9859 - val_loss: 0.0935 - val_accuracy: 0.9733\n",
            "Epoch 9/10\n",
            "1875/1875 [==============================] - 4s 2ms/step - loss: 0.0389 - accuracy: 0.9877 - val_loss: 0.1074 - val_accuracy: 0.9715\n",
            "Epoch 10/10\n",
            "1875/1875 [==============================] - 4s 2ms/step - loss: 0.0330 - accuracy: 0.9894 - val_loss: 0.1014 - val_accuracy: 0.9732\n"
          ],
          "name": "stdout"
        },
        {
          "output_type": "execute_result",
          "data": {
            "text/plain": [
              "<tensorflow.python.keras.callbacks.History at 0x7f2df8bb6f28>"
            ]
          },
          "metadata": {
            "tags": []
          },
          "execution_count": 59
        }
      ]
    },
    {
      "cell_type": "markdown",
      "metadata": {
        "id": "oSXZhTUcNtiz",
        "colab_type": "text"
      },
      "source": [
        "Evaluating the model with `x_test` and `y_test`"
      ]
    },
    {
      "cell_type": "code",
      "metadata": {
        "id": "F6yPyM7pYidZ",
        "colab_type": "code",
        "colab": {
          "base_uri": "https://localhost:8080/",
          "height": 52
        },
        "outputId": "8aae6782-c92c-4609-f369-232ccf7e53ec"
      },
      "source": [
        "model.evaluate(x_test,y_test)"
      ],
      "execution_count": 60,
      "outputs": [
        {
          "output_type": "stream",
          "text": [
            "313/313 [==============================] - 0s 1ms/step - loss: 0.1014 - accuracy: 0.9732\n"
          ],
          "name": "stdout"
        },
        {
          "output_type": "execute_result",
          "data": {
            "text/plain": [
              "[0.10137195885181427, 0.9732000231742859]"
            ]
          },
          "metadata": {
            "tags": []
          },
          "execution_count": 60
        }
      ]
    },
    {
      "cell_type": "markdown",
      "metadata": {
        "id": "jQQDBjIRN4KB",
        "colab_type": "text"
      },
      "source": [
        "Trying the output with random test example"
      ]
    },
    {
      "cell_type": "code",
      "metadata": {
        "id": "XufK6Qt6YrHx",
        "colab_type": "code",
        "colab": {
          "base_uri": "https://localhost:8080/",
          "height": 283
        },
        "outputId": "17206dbc-35b0-4cff-c253-0eed027fe05f"
      },
      "source": [
        "plt.imshow(x_test[4444].reshape(28,28), cmap='Greys')\n",
        "pred = model.predict(x_test[4444].reshape(1,28,28,1))\n",
        "print(pred.argmax())"
      ],
      "execution_count": 61,
      "outputs": [
        {
          "output_type": "stream",
          "text": [
            "9\n"
          ],
          "name": "stdout"
        },
        {
          "output_type": "display_data",
          "data": {
            "image/png": "[encoded data removed]",
            "text/plain": [
              "<Figure size 432x288 with 1 Axes>"
            ]
          },
          "metadata": {
            "tags": [],
            "needs_background": "light"
          }
        }
      ]
    },
    {
      "cell_type": "code",
      "metadata": {
        "id": "lTJY9rd9jLMw",
        "colab_type": "code",
        "colab": {
          "base_uri": "https://localhost:8080/",
          "height": 72
        },
        "outputId": "02222af9-0c7c-46ec-948b-70cce284f96e"
      },
      "source": [
        "tfjs.converters.save_keras_model(model, 'models')"
      ],
      "execution_count": 62,
      "outputs": [
        {
          "output_type": "stream",
          "text": [
            "/usr/local/lib/python3.6/dist-packages/tensorflowjs/converters/keras_h5_conversion.py:122: H5pyDeprecationWarning: The default file mode will change to 'r' (read-only) in h5py 3.0. To suppress this warning, pass the mode you need to h5py.File(), or set the global default h5.get_config().default_file_mode, or set the environment variable H5PY_DEFAULT_READONLY=1. Available modes are: 'r', 'r+', 'w', 'w-'/'x', 'a'. See the docs for details.\n",
            "  return h5py.File(h5file)\n"
          ],
          "name": "stderr"
        }
      ]
    }
  ]
}