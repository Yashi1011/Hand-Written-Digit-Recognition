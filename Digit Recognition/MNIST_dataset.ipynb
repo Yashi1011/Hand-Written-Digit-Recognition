{
 "cells": [
  {
   "cell_type": "markdown",
   "metadata": {
    "id": "_fYELivaH-wc"
   },
   "source": [
    "# MNIST dataset \n",
    "\n",
    "This notebook provides a detailed insight of the NN architecture used."
   ]
  },
  {
   "cell_type": "markdown",
   "metadata": {
    "id": "9z0eKLSOIZfk"
   },
   "source": [
    "### Importing the necessary libraries\n",
    "\n",
    "---\n",
    "\n",
    "*   TensorFlow (v2.2)\n",
    "*   Tensorflowjs\n",
    "*   Matplotlib"
   ]
  },
  {
   "cell_type": "code",
   "execution_count": 1,
   "metadata": {
    "colab": {
     "base_uri": "https://localhost:8080/"
    },
    "id": "gJ5cYPs4ZkAe",
    "outputId": "5f300e4d-c9b6-452f-dcb9-f60ba8e68443"
   },
   "outputs": [
    {
     "name": "stdout",
     "output_type": "stream",
     "text": [
      "2.4.1\n"
     ]
    }
   ],
   "source": [
    "import tensorflow as tf\n",
    "print(tf.__version__)\n",
    "import tensorflowjs as tfjs\n",
    "from tensorflow import keras\n",
    "from keras.layers import Flatten, Dense\n",
    "import matplotlib.pyplot as plt"
   ]
  },
  {
   "cell_type": "markdown",
   "metadata": {
    "id": "AA7mUmqfIlBZ"
   },
   "source": [
    "### Importing the dataset\n",
    "\n",
    "---\n",
    "The MNIST dataset, often termed as the \"Hello World\" for Neural Networks, is available in the Keras API and can be imported easily."
   ]
  },
  {
   "cell_type": "code",
   "execution_count": 2,
   "metadata": {
    "id": "mSHUKha-ZvA8"
   },
   "outputs": [],
   "source": [
    "(x_train, y_train), (x_test, y_test) = tf.keras.datasets.mnist.load_data()"
   ]
  },
  {
   "cell_type": "markdown",
   "metadata": {
    "id": "DB0rv3hUK7f0"
   },
   "source": [
    "### Data Preprocessing\n",
    "\n",
    "---\n",
    "Printing the 1st image from training set"
   ]
  },
  {
   "cell_type": "code",
   "execution_count": 3,
   "metadata": {
    "colab": {
     "base_uri": "https://localhost:8080/",
     "height": 283
    },
    "id": "DjAiIaAAaskG",
    "outputId": "cb4339e9-ed8f-4e8e-e691-ae3a5e9288cb"
   },
   "outputs": [
    {
     "name": "stdout",
     "output_type": "stream",
     "text": [
      "shape of image : (28, 28)\n"
     ]
    },
    {
     "data": {
      "image/png": "[encoded data removed]",
      "text/plain": [
       "<Figure size 432x288 with 1 Axes>"
      ]
     },
     "metadata": {
      "needs_background": "light",
      "tags": []
     },
     "output_type": "display_data"
    }
   ],
   "source": [
    "plt.imshow(x_train[0], cmap='Greys')\n",
    "print('shape of image : ' + str(x_train[0].shape))"
   ]
  },
  {
   "cell_type": "markdown",
   "metadata": {
    "id": "OfJZftnUKw6-"
   },
   "source": [
    "Reshaping the array to 4-dims so that it can work with the Keras API"
   ]
  },
  {
   "cell_type": "code",
   "execution_count": 4,
   "metadata": {
    "colab": {
     "base_uri": "https://localhost:8080/"
    },
    "id": "mybTF45ywZDV",
    "outputId": "f92ddc77-e4cd-4815-f14a-67090c4f18fe"
   },
   "outputs": [
    {
     "data": {
      "text/plain": [
       "(60000, 28, 28)"
      ]
     },
     "execution_count": 4,
     "metadata": {
      "tags": []
     },
     "output_type": "execute_result"
    }
   ],
   "source": [
    "x_train.shape"
   ]
  },
  {
   "cell_type": "code",
   "execution_count": 5,
   "metadata": {
    "colab": {
     "base_uri": "https://localhost:8080/"
    },
    "id": "mZFfh8QciU9Q",
    "outputId": "ec486301-df52-4b89-96e3-a7e575b7c7c3"
   },
   "outputs": [
    {
     "data": {
      "text/plain": [
       "(60000,)"
      ]
     },
     "execution_count": 5,
     "metadata": {
      "tags": []
     },
     "output_type": "execute_result"
    }
   ],
   "source": [
    "y_train.shape"
   ]
  },
  {
   "cell_type": "code",
   "execution_count": 6,
   "metadata": {
    "id": "6o_3jncTf7qP"
   },
   "outputs": [],
   "source": [
    "x_train = x_train.reshape(-1, 28, 28, 1)\n",
    "x_test = x_test.reshape(-1, 28, 28, 1)"
   ]
  },
  {
   "cell_type": "markdown",
   "metadata": {
    "id": "dnkE9pmfI0G2"
   },
   "source": [
    "Checking if the output(y) is `categorical` or not.\n"
   ]
  },
  {
   "cell_type": "code",
   "execution_count": 7,
   "metadata": {
    "colab": {
     "base_uri": "https://localhost:8080/"
    },
    "id": "7uuUGXLYI64U",
    "outputId": "541a8067-4d4a-4068-cca2-41adec3b6e6b"
   },
   "outputs": [
    {
     "name": "stdout",
     "output_type": "stream",
     "text": [
      "y of 1st training example : 5\n"
     ]
    }
   ],
   "source": [
    "print('y of 1st training example : '+str(y_train[0]))"
   ]
  },
  {
   "cell_type": "markdown",
   "metadata": {
    "id": "LuuucavmMUsN"
   },
   "source": [
    "The pixel values range from 0-255.\n",
    "\n",
    "Normalising the data can increase the performance of the model."
   ]
  },
  {
   "cell_type": "code",
   "execution_count": 8,
   "metadata": {
    "id": "_QWsZbhLMR8D"
   },
   "outputs": [],
   "source": [
    "x_train, x_test = x_train/255.0, x_test/255.0"
   ]
  },
  {
   "cell_type": "markdown",
   "metadata": {
    "id": "ZaCaxYfiMfwI"
   },
   "source": [
    "Details of data"
   ]
  },
  {
   "cell_type": "code",
   "execution_count": 9,
   "metadata": {
    "colab": {
     "base_uri": "https://localhost:8080/"
    },
    "id": "nZqTVI6lMiJp",
    "outputId": "7be4d3fb-262f-46b5-9d90-1de3adc94351"
   },
   "outputs": [
    {
     "name": "stdout",
     "output_type": "stream",
     "text": [
      "x_train shape: (60000, 28, 28, 1)\n",
      "Number of images in x_train 60000\n",
      "Number of images in x_test 10000\n",
      "y_train shape: (60000,)\n",
      "Number of images in y_train 60000\n",
      "Number of images in y_test 10000\n"
     ]
    }
   ],
   "source": [
    "print('x_train shape:', x_train.shape)\n",
    "print('Number of images in x_train', x_train.shape[0])\n",
    "print('Number of images in x_test', x_test.shape[0])\n",
    "print('y_train shape:', y_train.shape)\n",
    "print('Number of images in y_train', y_train.shape[0])\n",
    "print('Number of images in y_test', y_test.shape[0])"
   ]
  },
  {
   "cell_type": "markdown",
   "metadata": {
    "id": "KmlVdpKqM5Yb"
   },
   "source": [
    "### Building the model\n",
    "---\n",
    "\n",
    "The model is architectured as:\n",
    "FLATTEN -> DENSE(128) -> DENSE(60) ->DENSE(30) -> OUTPUT(10)\n",
    "\n",
    "Fortunately, we have Keras API which can construct the computational graph in just 4-5 lines of code. More about `Sequential`, `Dense` can be found [here](https://keras.io/api/)."
   ]
  },
  {
   "cell_type": "code",
   "execution_count": 10,
   "metadata": {
    "id": "cW3vvUyChRum"
   },
   "outputs": [],
   "source": [
    "model = tf.keras.Sequential([\n",
    "                             tf.keras.layers.Flatten(input_shape=(28,28,1)),\n",
    "                             tf.keras.layers.Dense(units=64, activation='relu'),\n",
    "                             tf.keras.layers.Dense(units=32, activation='relu'),\n",
    "                             tf.keras.layers.Dense(units=10, activation='softmax')\n",
    "                            ])"
   ]
  },
  {
   "cell_type": "markdown",
   "metadata": {
    "id": "A4kqa7xoNVZi"
   },
   "source": [
    "Summary of model"
   ]
  },
  {
   "cell_type": "code",
   "execution_count": 11,
   "metadata": {
    "colab": {
     "base_uri": "https://localhost:8080/"
    },
    "id": "CU9HspZagfm0",
    "outputId": "98f290c3-552b-4839-dc43-f5c93a8ecfdb"
   },
   "outputs": [
    {
     "name": "stdout",
     "output_type": "stream",
     "text": [
      "Model: \"sequential\"\n",
      "_________________________________________________________________\n",
      "Layer (type)                 Output Shape              Param #   \n",
      "=================================================================\n",
      "flatten (Flatten)            (None, 784)               0         \n",
      "_________________________________________________________________\n",
      "dense (Dense)                (None, 64)                50240     \n",
      "_________________________________________________________________\n",
      "dense_1 (Dense)              (None, 32)                2080      \n",
      "_________________________________________________________________\n",
      "dense_2 (Dense)              (None, 10)                330       \n",
      "=================================================================\n",
      "Total params: 52,650\n",
      "Trainable params: 52,650\n",
      "Non-trainable params: 0\n",
      "_________________________________________________________________\n"
     ]
    }
   ],
   "source": [
    "model.summary()"
   ]
  },
  {
   "cell_type": "markdown",
   "metadata": {
    "id": "obfAI1uWNdtl"
   },
   "source": [
    "Compiling the model with `Adam` optimizer and `Categorical cross entropy` as the loss function. \n",
    "\n",
    "The loss function describes how bad the model is and optimizer is responsible for improving the model."
   ]
  },
  {
   "cell_type": "code",
   "execution_count": 12,
   "metadata": {
    "id": "1wM1vxr2msXS"
   },
   "outputs": [],
   "source": [
    "model.compile(loss='sparse_categorical_crossentropy', optimizer='adam', metrics=['accuracy'])"
   ]
  },
  {
   "cell_type": "markdown",
   "metadata": {
    "id": "JFpchL_iNnVJ"
   },
   "source": [
    "Training the model on `x_train`, `y_train` for 10 epochs"
   ]
  },
  {
   "cell_type": "code",
   "execution_count": 13,
   "metadata": {
    "colab": {
     "base_uri": "https://localhost:8080/"
    },
    "id": "BIlQg9HDnzi7",
    "outputId": "23f62d3e-dd08-42dc-d2fb-dd13184e9db6"
   },
   "outputs": [
    {
     "name": "stdout",
     "output_type": "stream",
     "text": [
      "Epoch 1/10\n",
      "469/469 [==============================] - 2s 3ms/step - loss: 0.7513 - accuracy: 0.7910 - val_loss: 0.2126 - val_accuracy: 0.9388\n",
      "Epoch 2/10\n",
      "469/469 [==============================] - 1s 2ms/step - loss: 0.1919 - accuracy: 0.9454 - val_loss: 0.1600 - val_accuracy: 0.9554\n",
      "Epoch 3/10\n",
      "469/469 [==============================] - 1s 2ms/step - loss: 0.1395 - accuracy: 0.9595 - val_loss: 0.1351 - val_accuracy: 0.9603\n",
      "Epoch 4/10\n",
      "469/469 [==============================] - 1s 2ms/step - loss: 0.1120 - accuracy: 0.9670 - val_loss: 0.1156 - val_accuracy: 0.9656\n",
      "Epoch 5/10\n",
      "469/469 [==============================] - 1s 3ms/step - loss: 0.0957 - accuracy: 0.9724 - val_loss: 0.1091 - val_accuracy: 0.9676\n",
      "Epoch 6/10\n",
      "469/469 [==============================] - 1s 3ms/step - loss: 0.0794 - accuracy: 0.9765 - val_loss: 0.1102 - val_accuracy: 0.9681\n",
      "Epoch 7/10\n",
      "469/469 [==============================] - 1s 3ms/step - loss: 0.0687 - accuracy: 0.9786 - val_loss: 0.1023 - val_accuracy: 0.9701\n",
      "Epoch 8/10\n",
      "469/469 [==============================] - 1s 3ms/step - loss: 0.0595 - accuracy: 0.9832 - val_loss: 0.0918 - val_accuracy: 0.9741\n",
      "Epoch 9/10\n",
      "469/469 [==============================] - 1s 3ms/step - loss: 0.0475 - accuracy: 0.9863 - val_loss: 0.0918 - val_accuracy: 0.9722\n",
      "Epoch 10/10\n",
      "469/469 [==============================] - 1s 3ms/step - loss: 0.0486 - accuracy: 0.9853 - val_loss: 0.0871 - val_accuracy: 0.9747\n"
     ]
    },
    {
     "data": {
      "text/plain": [
       "<tensorflow.python.keras.callbacks.History at 0x7fb5f012a710>"
      ]
     },
     "execution_count": 13,
     "metadata": {
      "tags": []
     },
     "output_type": "execute_result"
    }
   ],
   "source": [
    "# model.fit(datagen.flow(x_train, y_train, batch_size=num, shuffle=False), epochs=10, validation_data=(x_test, y_test))\n",
    "model.fit(x_train, y_train, batch_size=128, epochs=10, validation_data=(x_test, y_test))"
   ]
  },
  {
   "cell_type": "markdown",
   "metadata": {
    "id": "oSXZhTUcNtiz"
   },
   "source": [
    "Evaluating the model with `x_test` and `y_test`"
   ]
  },
  {
   "cell_type": "code",
   "execution_count": 14,
   "metadata": {
    "colab": {
     "base_uri": "https://localhost:8080/"
    },
    "id": "F6yPyM7pYidZ",
    "outputId": "eaee44e2-50b8-4763-ea32-3785f0e31670"
   },
   "outputs": [
    {
     "name": "stdout",
     "output_type": "stream",
     "text": [
      "313/313 [==============================] - 1s 2ms/step - loss: 0.0871 - accuracy: 0.9747\n"
     ]
    },
    {
     "data": {
      "text/plain": [
       "[0.08710919320583344, 0.9746999740600586]"
      ]
     },
     "execution_count": 14,
     "metadata": {
      "tags": []
     },
     "output_type": "execute_result"
    }
   ],
   "source": [
    "model.evaluate(x_test,y_test)"
   ]
  },
  {
   "cell_type": "markdown",
   "metadata": {
    "id": "jQQDBjIRN4KB"
   },
   "source": [
    "Trying the output with random test example"
   ]
  },
  {
   "cell_type": "code",
   "execution_count": 15,
   "metadata": {
    "colab": {
     "base_uri": "https://localhost:8080/",
     "height": 283
    },
    "id": "XufK6Qt6YrHx",
    "outputId": "0bb8d9df-4239-4f78-e44a-c8826f560ca9"
   },
   "outputs": [
    {
     "name": "stdout",
     "output_type": "stream",
     "text": [
      "6\n"
     ]
    },
    {
     "data": {
      "image/png": "[encoded data removed]",
      "text/plain": [
       "<Figure size 432x288 with 1 Axes>"
      ]
     },
     "metadata": {
      "needs_background": "light",
      "tags": []
     },
     "output_type": "display_data"
    }
   ],
   "source": [
    "plt.imshow(x_test[4412].reshape(28,28), cmap='Greys')\n",
    "pred = model.predict(x_test[4412].reshape(1,28,28,1))\n",
    "print(pred.argmax())"
   ]
  },
  {
   "cell_type": "code",
   "execution_count": 16,
   "metadata": {
    "colab": {
     "base_uri": "https://localhost:8080/"
    },
    "id": "lTJY9rd9jLMw",
    "outputId": "f32617d1-eb39-4964-97dd-b6d03bff2453"
   },
   "outputs": [
    {
     "name": "stderr",
     "output_type": "stream",
     "text": [
      "/usr/local/lib/python3.6/dist-packages/tensorflowjs/converters/keras_h5_conversion.py:123: H5pyDeprecationWarning: The default file mode will change to 'r' (read-only) in h5py 3.0. To suppress this warning, pass the mode you need to h5py.File(), or set the global default h5.get_config().default_file_mode, or set the environment variable H5PY_DEFAULT_READONLY=1. Available modes are: 'r', 'r+', 'w', 'w-'/'x', 'a'. See the docs for details.\n",
      "  return h5py.File(h5file)\n"
     ]
    }
   ],
   "source": [
    "tfjs.converters.save_keras_model(model, 'models')"
   ]
  }
 ],
 "metadata": {
  "accelerator": "GPU",
  "colab": {
   "collapsed_sections": [],
   "name": "MNIST_dataset.ipynb",
   "provenance": []
  },
  "kernelspec": {
   "display_name": "Python 3",
   "language": "python",
   "name": "python3"
  },
  "language_info": {
   "codemirror_mode": {
    "name": "ipython",
    "version": 3
   },
   "file_extension": ".py",
   "mimetype": "text/x-python",
   "name": "python",
   "nbconvert_exporter": "python",
   "pygments_lexer": "ipython3",
   "version": "3.8.5"
  }
 },
 "nbformat": 4,
 "nbformat_minor": 1
}
